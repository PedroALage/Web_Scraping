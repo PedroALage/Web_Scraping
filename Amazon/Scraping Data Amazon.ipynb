{
 "cells": [
  {
   "cell_type": "code",
   "execution_count": 7,
   "id": "782f1287",
   "metadata": {},
   "outputs": [],
   "source": [
    "# Importanto bibliotecas\n",
    "\n",
    "import pandas as pd\n",
    "from bs4 import BeautifulSoup\n",
    "import requests\n",
    "import datetime\n",
    "import time"
   ]
  },
  {
   "cell_type": "code",
   "execution_count": 8,
   "id": "cf3bf8d0",
   "metadata": {},
   "outputs": [],
   "source": [
    "# Adquirindo os dados\n",
    "\n",
    "URL = 'https://www.amazon.com.br/Echo-Dot-5ª-geração-Cor-Preta/dp/B09B8VGCR8/?_encoding=UTF8&pd_rd_w=O6st4&content-id=amzn1.sym.52e74d21-088e-4a9d-888d-8b14bf95d4ae&pf_rd_p=52e74d21-088e-4a9d-888d-8b14bf95d4ae&pf_rd_r=4ABP98KEY79RKMYJZRBC&pd_rd_wg=3yVOz&pd_rd_r=6bea3132-d8fa-4972-a1a5-640ebada6813&ref_=pd_gw_crs_zg_bs_16333486011'\n",
    "\n",
    "headers = {\"User-Agent\": \"Mozilla/5.0 (Windows NT 10.0; Win64; x64) AppleWebKit/537.36 (KHTML, like Gecko) Chrome/121.0.0.0 Safari/537.36 OPR/107.0.0.0\", \"Accept-Encoding\":\"gzip, deflate\", \"Accept\":\"text/html,application/xhtml+xml,application/xml;q=0.9,*/*;q=0.8\", \"DNT\":\"1\",\"Connection\":\"close\", \"Upgrade-Insecure-Requests\":\"1\"}\n",
    "\n",
    "page = requests.get(URL, headers=headers)\n",
    "\n",
    "soup1 = BeautifulSoup(page.content, \"html.parser\")\n",
    "\n",
    "soup2 = BeautifulSoup(soup1.prettify(), \"html.parser\")"
   ]
  },
  {
   "cell_type": "code",
   "execution_count": 9,
   "id": "196819bb",
   "metadata": {},
   "outputs": [
    {
     "name": "stdout",
     "output_type": "stream",
     "text": [
      "\n",
      "             Echo Dot 5ª geração | O Echo Dot com o melhor som já lançado | Cor Preta\n",
      "            \n",
      "\n",
      "               R$ 386,10\n",
      "              \n",
      "\n",
      "                 4,8 de 5 estrelas\n",
      "                \n",
      "\n",
      "              36.407 avaliações de clientes\n",
      "             \n"
     ]
    }
   ],
   "source": [
    "# Selecionando as informações\n",
    "\n",
    "title = soup2.find(id='productTitle').get_text()\n",
    "\n",
    "price = soup2.find(class_=\"aok-offscreen\").get_text()\n",
    "\n",
    "stars = soup2.find(class_=\"a-icon-alt\").get_text()\n",
    "\n",
    "reviews = soup2.find(id=\"acrCustomerReviewText\").get_text()\n",
    "\n",
    "print(title)\n",
    "print(price)\n",
    "print(stars)\n",
    "print(reviews)"
   ]
  },
  {
   "cell_type": "code",
   "execution_count": 10,
   "id": "783a3ae8",
   "metadata": {},
   "outputs": [
    {
     "name": "stdout",
     "output_type": "stream",
     "text": [
      "Echo Dot 5ª geração | O Echo Dot com o melhor som já lançado | Cor Preta\n",
      "386,10\n",
      "4,8\n",
      "36.407\n"
     ]
    }
   ],
   "source": [
    "# Limpando os dados\n",
    "\n",
    "titleC = title.strip()\n",
    "\n",
    "priceC = price.strip()[3:]\n",
    "\n",
    "starsC = stars.strip()\n",
    "starsC = starsC.split()[0]\n",
    "\n",
    "reviewsC = reviews.strip()\n",
    "reviewsC = reviewsC.split()[0]\n",
    "\n",
    "print(titleC)\n",
    "print(priceC)\n",
    "print(starsC)\n",
    "print(reviewsC)"
   ]
  },
  {
   "cell_type": "code",
   "execution_count": 11,
   "id": "d060aae3",
   "metadata": {},
   "outputs": [
    {
     "data": {
      "text/html": [
       "<div>\n",
       "<style scoped>\n",
       "    .dataframe tbody tr th:only-of-type {\n",
       "        vertical-align: middle;\n",
       "    }\n",
       "\n",
       "    .dataframe tbody tr th {\n",
       "        vertical-align: top;\n",
       "    }\n",
       "\n",
       "    .dataframe thead th {\n",
       "        text-align: right;\n",
       "    }\n",
       "</style>\n",
       "<table border=\"1\" class=\"dataframe\">\n",
       "  <thead>\n",
       "    <tr style=\"text-align: right;\">\n",
       "      <th></th>\n",
       "      <th>Título</th>\n",
       "      <th>Preço (R$)</th>\n",
       "      <th>Avaliação (0-5)</th>\n",
       "      <th>Número de Avaliações</th>\n",
       "      <th>Data</th>\n",
       "    </tr>\n",
       "  </thead>\n",
       "  <tbody>\n",
       "  </tbody>\n",
       "</table>\n",
       "</div>"
      ],
      "text/plain": [
       "Empty DataFrame\n",
       "Columns: [Título, Preço (R$), Avaliação (0-5), Número de Avaliações, Data]\n",
       "Index: []"
      ]
     },
     "execution_count": 11,
     "metadata": {},
     "output_type": "execute_result"
    }
   ],
   "source": [
    "# Criando DataFrame\n",
    "\n",
    "today = datetime.date.today().strftime(\"%d/%m/%y\")\n",
    "\n",
    "header = ['Título', 'Preço (R$)', 'Avaliação (0-5)', 'Número de Avaliações', 'Data']\n",
    "data = [titleC, priceC, starsC, reviewsC, today]\n",
    "\n",
    "df = pd.DataFrame(columns = header)\n",
    "\n",
    "df"
   ]
  },
  {
   "cell_type": "code",
   "execution_count": 12,
   "id": "97c33054",
   "metadata": {},
   "outputs": [
    {
     "data": {
      "text/html": [
       "<div>\n",
       "<style scoped>\n",
       "    .dataframe tbody tr th:only-of-type {\n",
       "        vertical-align: middle;\n",
       "    }\n",
       "\n",
       "    .dataframe tbody tr th {\n",
       "        vertical-align: top;\n",
       "    }\n",
       "\n",
       "    .dataframe thead th {\n",
       "        text-align: right;\n",
       "    }\n",
       "</style>\n",
       "<table border=\"1\" class=\"dataframe\">\n",
       "  <thead>\n",
       "    <tr style=\"text-align: right;\">\n",
       "      <th></th>\n",
       "      <th>Título</th>\n",
       "      <th>Preço (R$)</th>\n",
       "      <th>Avaliação (0-5)</th>\n",
       "      <th>Número de Avaliações</th>\n",
       "      <th>Data</th>\n",
       "    </tr>\n",
       "  </thead>\n",
       "  <tbody>\n",
       "    <tr>\n",
       "      <th>0</th>\n",
       "      <td>Echo Dot 5ª geração | O Echo Dot com o melhor ...</td>\n",
       "      <td>386,10</td>\n",
       "      <td>4,8</td>\n",
       "      <td>36.407</td>\n",
       "      <td>05/03/24</td>\n",
       "    </tr>\n",
       "  </tbody>\n",
       "</table>\n",
       "</div>"
      ],
      "text/plain": [
       "                                              Título Preço (R$)  \\\n",
       "0  Echo Dot 5ª geração | O Echo Dot com o melhor ...     386,10   \n",
       "\n",
       "  Avaliação (0-5) Número de Avaliações      Data  \n",
       "0             4,8               36.407  05/03/24  "
      ]
     },
     "execution_count": 12,
     "metadata": {},
     "output_type": "execute_result"
    }
   ],
   "source": [
    "df.loc[0] = data\n",
    "\n",
    "df"
   ]
  },
  {
   "cell_type": "code",
   "execution_count": 66,
   "id": "3ef209a7",
   "metadata": {},
   "outputs": [],
   "source": [
    "df.to_csv(r'C:\\Users\\pedro\\Documents\\Data_Science\\Web Scraping\\AmazonEchoDot.csv', index = False)"
   ]
  },
  {
   "cell_type": "code",
   "execution_count": 13,
   "id": "71f1db6e",
   "metadata": {},
   "outputs": [],
   "source": [
    "# Função para automatizar o processo\n",
    "\n",
    "def check_price():\n",
    "    page = requests.get(URL, headers=headers)\n",
    "    soup2 = BeautifulSoup(page.content, \"html.parser\")\n",
    "    \n",
    "    title = soup2.find(id='productTitle').get_text()\n",
    "    price = soup2.find(class_=\"aok-offscreen\").get_text()\n",
    "    stars = soup2.find(class_=\"a-icon-alt\").get_text()\n",
    "    reviews = soup2.find(id=\"acrCustomerReviewText\").get_text()\n",
    "    \n",
    "    titleC = title.strip()\n",
    "    priceC = price.strip()[3:]\n",
    "    starsC = stars.strip()\n",
    "    starsC = starsC.split()[0]\n",
    "    reviewsC = reviews.strip()\n",
    "    reviewsC = reviewsC.split()[0]\n",
    "    today = datetime.date.today().strftime(\"%d/%m/%y\")\n",
    "    \n",
    "    data = [titleC, priceC, starsC, reviewsC, today]\n",
    "    df.loc[len(df.index)] = data"
   ]
  },
  {
   "cell_type": "code",
   "execution_count": 17,
   "id": "99269f73",
   "metadata": {},
   "outputs": [
    {
     "ename": "KeyboardInterrupt",
     "evalue": "",
     "output_type": "error",
     "traceback": [
      "\u001b[1;31m---------------------------------------------------------------------------\u001b[0m",
      "\u001b[1;31mKeyboardInterrupt\u001b[0m                         Traceback (most recent call last)",
      "Cell \u001b[1;32mIn[17], line 6\u001b[0m\n\u001b[0;32m      4\u001b[0m \u001b[38;5;28;01mwhile\u001b[39;00m(\u001b[38;5;28;01mTrue\u001b[39;00m):\n\u001b[0;32m      5\u001b[0m     check_price()\n\u001b[1;32m----> 6\u001b[0m     time\u001b[38;5;241m.\u001b[39msleep(\u001b[38;5;241m5\u001b[39m)\n",
      "\u001b[1;31mKeyboardInterrupt\u001b[0m: "
     ]
    }
   ],
   "source": [
    "import warnings\n",
    "warnings.filterwarnings('ignore')\n",
    "\n",
    "while(True):\n",
    "    check_price()\n",
    "    time.sleep(86400)"
   ]
  },
  {
   "cell_type": "code",
   "execution_count": 18,
   "id": "5b9a94ed",
   "metadata": {},
   "outputs": [
    {
     "data": {
      "text/html": [
       "<div>\n",
       "<style scoped>\n",
       "    .dataframe tbody tr th:only-of-type {\n",
       "        vertical-align: middle;\n",
       "    }\n",
       "\n",
       "    .dataframe tbody tr th {\n",
       "        vertical-align: top;\n",
       "    }\n",
       "\n",
       "    .dataframe thead th {\n",
       "        text-align: right;\n",
       "    }\n",
       "</style>\n",
       "<table border=\"1\" class=\"dataframe\">\n",
       "  <thead>\n",
       "    <tr style=\"text-align: right;\">\n",
       "      <th></th>\n",
       "      <th>Título</th>\n",
       "      <th>Preço (R$)</th>\n",
       "      <th>Avaliação (0-5)</th>\n",
       "      <th>Número de Avaliações</th>\n",
       "      <th>Data</th>\n",
       "    </tr>\n",
       "  </thead>\n",
       "  <tbody>\n",
       "    <tr>\n",
       "      <th>0</th>\n",
       "      <td>Echo Dot 5ª geração | O Echo Dot com o melhor ...</td>\n",
       "      <td>386,10</td>\n",
       "      <td>4,8</td>\n",
       "      <td>36.407</td>\n",
       "      <td>05/03/24</td>\n",
       "    </tr>\n",
       "    <tr>\n",
       "      <th>1</th>\n",
       "      <td>Echo Dot 5ª geração | O Echo Dot com o melhor ...</td>\n",
       "      <td>386,10</td>\n",
       "      <td>4,8</td>\n",
       "      <td>36.407</td>\n",
       "      <td>05/03/24</td>\n",
       "    </tr>\n",
       "    <tr>\n",
       "      <th>2</th>\n",
       "      <td>Echo Dot 5ª geração | O Echo Dot com o melhor ...</td>\n",
       "      <td>386,10</td>\n",
       "      <td>4,8</td>\n",
       "      <td>36.407</td>\n",
       "      <td>05/03/24</td>\n",
       "    </tr>\n",
       "    <tr>\n",
       "      <th>3</th>\n",
       "      <td>Echo Dot 5ª geração | O Echo Dot com o melhor ...</td>\n",
       "      <td>386,10</td>\n",
       "      <td>4,8</td>\n",
       "      <td>36.407</td>\n",
       "      <td>05/03/24</td>\n",
       "    </tr>\n",
       "    <tr>\n",
       "      <th>4</th>\n",
       "      <td>Echo Dot 5ª geração | O Echo Dot com o melhor ...</td>\n",
       "      <td>386,10</td>\n",
       "      <td>4,8</td>\n",
       "      <td>36.407</td>\n",
       "      <td>05/03/24</td>\n",
       "    </tr>\n",
       "    <tr>\n",
       "      <th>5</th>\n",
       "      <td>Echo Dot 5ª geração | O Echo Dot com o melhor ...</td>\n",
       "      <td>386,10</td>\n",
       "      <td>4,8</td>\n",
       "      <td>36.407</td>\n",
       "      <td>05/03/24</td>\n",
       "    </tr>\n",
       "    <tr>\n",
       "      <th>6</th>\n",
       "      <td>Echo Dot 5ª geração | O Echo Dot com o melhor ...</td>\n",
       "      <td>386,10</td>\n",
       "      <td>4,8</td>\n",
       "      <td>36.407</td>\n",
       "      <td>05/03/24</td>\n",
       "    </tr>\n",
       "  </tbody>\n",
       "</table>\n",
       "</div>"
      ],
      "text/plain": [
       "                                              Título Preço (R$)  \\\n",
       "0  Echo Dot 5ª geração | O Echo Dot com o melhor ...     386,10   \n",
       "1  Echo Dot 5ª geração | O Echo Dot com o melhor ...     386,10   \n",
       "2  Echo Dot 5ª geração | O Echo Dot com o melhor ...     386,10   \n",
       "3  Echo Dot 5ª geração | O Echo Dot com o melhor ...     386,10   \n",
       "4  Echo Dot 5ª geração | O Echo Dot com o melhor ...     386,10   \n",
       "5  Echo Dot 5ª geração | O Echo Dot com o melhor ...     386,10   \n",
       "6  Echo Dot 5ª geração | O Echo Dot com o melhor ...     386,10   \n",
       "\n",
       "  Avaliação (0-5) Número de Avaliações      Data  \n",
       "0             4,8               36.407  05/03/24  \n",
       "1             4,8               36.407  05/03/24  \n",
       "2             4,8               36.407  05/03/24  \n",
       "3             4,8               36.407  05/03/24  \n",
       "4             4,8               36.407  05/03/24  \n",
       "5             4,8               36.407  05/03/24  \n",
       "6             4,8               36.407  05/03/24  "
      ]
     },
     "execution_count": 18,
     "metadata": {},
     "output_type": "execute_result"
    }
   ],
   "source": [
    "df"
   ]
  },
  {
   "cell_type": "code",
   "execution_count": 19,
   "id": "fa16e0e0",
   "metadata": {},
   "outputs": [],
   "source": [
    "df.to_csv(r'C:\\Users\\pedro\\Documents\\Data_Science\\Web Scraping\\AmazonEchoDot.csv', index = False)"
   ]
  },
  {
   "cell_type": "code",
   "execution_count": null,
   "id": "12a5cb39",
   "metadata": {},
   "outputs": [],
   "source": []
  }
 ],
 "metadata": {
  "kernelspec": {
   "display_name": "Python 3 (ipykernel)",
   "language": "python",
   "name": "python3"
  },
  "language_info": {
   "codemirror_mode": {
    "name": "ipython",
    "version": 3
   },
   "file_extension": ".py",
   "mimetype": "text/x-python",
   "name": "python",
   "nbconvert_exporter": "python",
   "pygments_lexer": "ipython3",
   "version": "3.11.5"
  }
 },
 "nbformat": 4,
 "nbformat_minor": 5
}
